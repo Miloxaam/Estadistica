{
  "nbformat": 4,
  "nbformat_minor": 0,
  "metadata": {
    "kernelspec": {
      "display_name": "Python 3",
      "language": "python",
      "name": "python3"
    },
    "language_info": {
      "codemirror_mode": {
        "name": "ipython",
        "version": 3
      },
      "file_extension": ".py",
      "mimetype": "text/x-python",
      "name": "python",
      "nbconvert_exporter": "python",
      "pygments_lexer": "ipython3",
      "version": "3.7.3"
    },
    "colab": {
      "name": "AmayaMilitza_Tarea1.ipynb",
      "version": "0.3.2",
      "provenance": [],
      "collapsed_sections": [],
      "include_colab_link": true
    }
  },
  "cells": [
    {
      "cell_type": "markdown",
      "metadata": {
        "id": "view-in-github",
        "colab_type": "text"
      },
      "source": [
        "<a href=\"https://colab.research.google.com/github/Miloxaam/Estadistica/blob/master/AmayaMilitza_Tarea1.ipynb\" target=\"_parent\"><img src=\"https://colab.research.google.com/assets/colab-badge.svg\" alt=\"Open In Colab\"/></a>"
      ]
    },
    {
      "cell_type": "markdown",
      "metadata": {
        "id": "C2obKeeneT72",
        "colab_type": "text"
      },
      "source": [
        "# <center>Tarea 1<center>\n",
        "## <center>Para entregar el 18 de septiembre<center>"
      ]
    },
    {
      "cell_type": "markdown",
      "metadata": {
        "id": "YBE59HbBeT8a",
        "colab_type": "text"
      },
      "source": [
        "### 1. Calcula lo siguiente:\n",
        "$$ \n",
        "\\begin{pmatrix} 1 & 2 \\\\ \n",
        "3 & 4 \\end{pmatrix} \n",
        "\\begin{pmatrix} 0 & 1 \\\\ \n",
        "2 & 3 \\end{pmatrix} \n",
        "+ \n",
        "\\begin{pmatrix} 7 & 9 \\end{pmatrix} \n",
        "$$\n",
        "\n",
        "Usa broadcasting de tal forma que la operación esté bien definida. Antes, averigua qué es broadcasting, en el contextos de numpy-tensorflow..."
      ]
    },
    {
      "cell_type": "markdown",
      "metadata": {
        "id": "3yaolSM5h0Xh",
        "colab_type": "text"
      },
      "source": [
        "Cuando se esta trabajando objetos con dimensiones que no son compatibles, \"numpy\" adapta algunas de ellas para realizar la operación y a eso es lo que se le denomina *Broadcasting*. A continuación se muestra el resultado que se obtuvo."
      ]
    },
    {
      "cell_type": "code",
      "metadata": {
        "id": "4upVDcUv4yv5",
        "colab_type": "code",
        "colab": {
          "base_uri": "https://localhost:8080/",
          "height": 36
        },
        "outputId": "2c6a93e6-c20e-4b43-a587-c599b467000c"
      },
      "source": [
        "import numpy as np\n",
        "a = np.matrix('1 2; 3 4')\n",
        "b = np.matrix('0 1; 2 3')\n",
        "c = np.array([7, 9])\n"
      ],
      "execution_count": 20,
      "outputs": [
        {
          "output_type": "stream",
          "text": [
            "(2,)\n"
          ],
          "name": "stdout"
        }
      ]
    },
    {
      "cell_type": "markdown",
      "metadata": {
        "id": "V2bZ6q3WGGXx",
        "colab_type": "text"
      },
      "source": [
        "Realizando la multiplicación de las matrices se obtiene una matriz de dimensiones 2x2 que al sumarse con el vector c=[7,9], es fácil ver la imcopatibilidad de la operación, sin embargo *Broadcasting* aumenta la dimensión del vector de tal manera que pueda realizarse la operación con el producto de las matrices anteriores, entonces se obtiene que:\n",
        "$$ \n",
        "\\begin{pmatrix} 1 & 2 \\\\ \n",
        "3 & 4 \\end{pmatrix} \n",
        "\\begin{pmatrix} 0 & 1 \\\\ \n",
        "2 & 3 \\end{pmatrix} \n",
        "+ \n",
        "\\begin{pmatrix} 7 & 9 \\end{pmatrix}=\\begin{pmatrix} 4 & 7 \\\\ \n",
        "8 & 15 \\end{pmatrix} \n",
        "+\\begin{pmatrix} 7 & 9 \\\\ \n",
        "7 & 9 \\end{pmatrix}=\\begin{pmatrix} 11 & 16 \\\\ \n",
        "15 & 24 \\end{pmatrix} \n",
        "$$\n"
      ]
    },
    {
      "cell_type": "code",
      "metadata": {
        "id": "kN7SCMgzHueK",
        "colab_type": "code",
        "colab": {
          "base_uri": "https://localhost:8080/",
          "height": 54
        },
        "outputId": "0257e90a-022a-4c7e-b63a-547bfd87133f"
      },
      "source": [
        "a@b+c"
      ],
      "execution_count": 21,
      "outputs": [
        {
          "output_type": "execute_result",
          "data": {
            "text/plain": [
              "matrix([[11, 16],\n",
              "        [15, 24]])"
            ]
          },
          "metadata": {
            "tags": []
          },
          "execution_count": 21
        }
      ]
    },
    {
      "cell_type": "markdown",
      "metadata": {
        "id": "sQoZ2a0LeT8r",
        "colab_type": "text"
      },
      "source": [
        "### <font color=green>Tu respuesta aquí</font>"
      ]
    },
    {
      "cell_type": "markdown",
      "metadata": {
        "id": "k8eKW3kIeT88",
        "colab_type": "text"
      },
      "source": [
        "### 2. Las funciones  `tf.math.reduce_` de `tensorflow` reducen las dimensiones de un tensor realizando operaciones en sus elementos. Por ejemplo,\n",
        "```python\n",
        "x = tf.constant([[1, 1, 1], [1, 1, 1]])\n",
        "tf.reduce_sum(x)\n",
        "# obtenemos 6\n",
        "tf.reduce_sum(x, 0)\n",
        "## dará como resultado\n",
        "[2, 2, 2]\n",
        "```\n",
        "### Ahora, considera el siguiente código:\n",
        "```python\n",
        "a = tf.constant([[1.], [2.]])\n",
        "b = tf.constant([1., 2.])\n",
        "c = tf.reduce_sum(a + b)\n",
        "```\n",
        "### ¿Qué valor tendrá `c` después de evaluar el grafo? Explica porqué da ése resultado."
      ]
    },
    {
      "cell_type": "markdown",
      "metadata": {
        "id": "ykD0F8EWeT9K",
        "colab_type": "text"
      },
      "source": [
        "### <font color=green>Tu respuesta aquí</font>"
      ]
    },
    {
      "cell_type": "markdown",
      "metadata": {
        "id": "jajTCBUOeT9e",
        "colab_type": "text"
      },
      "source": [
        "### 3. Considera los datos de Boston Housing Price (Harrison, D. and Rubinfeld, D.L. 'Hedonic prices and the demand for clean air', J. Environ. Economics & Management, vol.5, 81-102, 1978), y que se encuentra precargada dentro del módulo `sklearn.datasets`. Implementa un método de regresión lineal en tensorflow para predecir `MEDV` (la variable de respuesta). Obtén el grafo computacional correspondiente. Puedes auxiliarte del siguiente código para cargar y formatear los datos."
      ]
    },
    {
      "cell_type": "code",
      "metadata": {
        "id": "YPaqL7n3eT9w",
        "colab_type": "code",
        "colab": {},
        "outputId": "ed68851b-f7e0-475a-e9eb-f54bc55e614a"
      },
      "source": [
        "import numpy as np\n",
        "import pandas as pd\n",
        "from sklearn.datasets import load_boston\n",
        "from sklearn.preprocessing import StandardScaler\n",
        "from sklearn.model_selection import train_test_split\n",
        "\n",
        "# datos\n",
        "boston = load_boston()\n",
        "# covariables\n",
        "all_x = pd.DataFrame(np.array(boston.data), columns=[boston.feature_names])\n",
        "\n",
        "# respuesta\n",
        "all_y = pd.DataFrame(np.array(boston.target), columns=['labels'])\n",
        "\n",
        "# datos de entrenamiento y prueba (80-20)\n",
        "x_train, x_test, y_train, y_test = train_test_split(all_x,all_y, test_size=0.2, random_state=4215)\n",
        "\n",
        "# estandariza\n",
        "scaler = StandardScaler()\n",
        "x_train = scaler.fit_transform(x_train)\n",
        "x_test = scaler.fit_transform(x_test)\n",
        "\n",
        "# convierte la variable dependiente a un arreglo numpy con las dimensiones correctas\n",
        "y_train = np.array(y_train)\n",
        "y_test = np.array(y_test)\n",
        "\n",
        "print(\",\".join([str(t.shape) for t in (x_train, x_test, y_train, y_test)]))\n"
      ],
      "execution_count": 0,
      "outputs": [
        {
          "output_type": "stream",
          "text": [
            "(404, 13),(102, 13),(404, 1),(102, 1)\n"
          ],
          "name": "stdout"
        }
      ]
    },
    {
      "cell_type": "code",
      "metadata": {
        "id": "hUnK1bvOeT-y",
        "colab_type": "code",
        "colab": {}
      },
      "source": [
        "# TU CÓDIGO AQUI"
      ],
      "execution_count": 0,
      "outputs": []
    },
    {
      "cell_type": "markdown",
      "metadata": {
        "id": "Qk3S5cmjeT_X",
        "colab_type": "text"
      },
      "source": [
        "### 4. Considera nuevamente el ejercicio que vimos en clase sobre clasificación de dígitos MNIST. Tomando como baseline los resultados obtenidos con regresión logística, realiza una implementación de una red neuronal con\n",
        " - 1 capa oculta"
      ]
    },
    {
      "cell_type": "code",
      "metadata": {
        "id": "cIGlx8sLeT_f",
        "colab_type": "code",
        "colab": {}
      },
      "source": [
        "# TU CÓDIGO AQUI"
      ],
      "execution_count": 0,
      "outputs": []
    },
    {
      "cell_type": "markdown",
      "metadata": {
        "id": "Kq9EW-pCeUAC",
        "colab_type": "text"
      },
      "source": [
        "    \n",
        "   - 2 capas ocultas"
      ]
    },
    {
      "cell_type": "code",
      "metadata": {
        "id": "RGHrhl1ZeUAH",
        "colab_type": "code",
        "colab": {}
      },
      "source": [
        "# TU CÓDIGO AQUI"
      ],
      "execution_count": 0,
      "outputs": []
    },
    {
      "cell_type": "markdown",
      "metadata": {
        "id": "Brg9gTe_eUAX",
        "colab_type": "text"
      },
      "source": [
        "### En base a tus resultados. ¿Qué tanta mejora obtienes en cada caso respecto al baseline? ¿Cuál sería para ti tu arquitectura óptima?\n",
        "### Explica con detalle tus respuestas y el criterio que usaste en cada modelo. Acompañalo con gráficos informativos."
      ]
    },
    {
      "cell_type": "markdown",
      "metadata": {
        "id": "JS_srSBueUAe",
        "colab_type": "text"
      },
      "source": [
        "### <font color=green>Tu respuesta aquí</font>"
      ]
    }
  ]
}