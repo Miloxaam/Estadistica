{
 "cells": [
  {
   "cell_type": "markdown",
   "metadata": {},
   "source": [
    "# <center> TEMAS SELECTOS DE ESTADÍSTICA <center>\n",
    "\n",
    "Militza Andrea Amaya Moguel"
   ]
  },
  {
   "cell_type": "markdown",
   "metadata": {},
   "source": [
    "### <font color=black>Ejercicio 1</font>\n",
    "Realice la gráfica de la frontera óptima para el proceso verdadero, dentro de muestra y fuera de muestra:\n",
    "### <font color=pink>Solución</font>"
   ]
  },
  {
   "cell_type": "markdown",
   "metadata": {},
   "source": [
    "Se asume que:\n",
    "* Hay un retorno esperado del 100%. $\\mu =(1,..,1)'$\n",
    "* $\\Sigma = I$\n",
    "* Matriz de covarianza muestral S es una matriz aleatoria del ensamble de Whishart con $\\sigma=0.2$\n",
    "\n",
    "Con $p=100$ y $n=200$ se genera la matriz de datos X"
   ]
  },
  {
   "cell_type": "code",
   "execution_count": 42,
   "metadata": {},
   "outputs": [
    {
     "data": {
      "image/png": "[encoded data removed]",
      "text/plain": [
       "Plot with title \"Frontera Optima\""
      ]
     },
     "metadata": {},
     "output_type": "display_data"
    }
   ],
   "source": [
    "#Se asume que:\n",
    "p <- 100                                                             # variables\n",
    "n<- 200                                                              # observaciones\n",
    "mu <- matrix(1, p, 1)\n",
    "Sigma <- diag(1, p, p)\n",
    "\n",
    "                                                        \n",
    "Z <- replicate(n = p, sample(rnorm(n = n, mean = 0, sd = 1)))      # Generación de datos\n",
    "D <- diag(.2, n, n)\n",
    "X <- D%*%Z\n",
    "\n",
    "W <- (1/n)*t(X)%*%(X)                                                # Matriz Wishar\n",
    "W.inv <- solve(W)\n",
    "\n",
    "G <- seq(from=0, to = 100, by = 2)\n",
    "\n",
    "\n",
    "# Risck\n",
    "R.true <- function(G){\n",
    "  x1<- G^2/(t(mu)%*%Sigma%*%mu)\n",
    "  x1\n",
    "}\n",
    "\n",
    "R.in <- function(G){\n",
    "  x2<- G^2/(t(mu)%*%W.inv%*%mu)\n",
    "  x2\n",
    "}\n",
    "\n",
    "R.out <- function(G){\n",
    "  x3 <- G^2%*%((t(mu)%*%W.inv%*%Sigma%*%W.inv%*%mu)/(t(mu)%*%W.inv%*%mu)^2)\n",
    "  x3\n",
    "}\n",
    "\n",
    "x1 <- sapply(G, R.true)\n",
    "x2 <- sapply(G, R.in)\n",
    "x3 <- sapply(G, R.out)\n",
    "\n",
    "\n",
    "plot(x1, G, col=\"dodgerblue\", type = 'l', main = \"Frontera Optima\", lwd=2)\n",
    "lines(x2, G, col=\"chocolate1\", lwd=2)\n",
    "lines(x3, G, col=\"darkgreen\", lwd=2)\n",
    "legend(\"bottomright\", legend = c(\"True\", \"In\", \"Out\"), col=c(\"dodgerblue\",\"chocolate1\", \"darkgreen\"), lty=c(1,1), cex = 0.48, bty = 'n')\n"
   ]
  },
  {
   "cell_type": "markdown",
   "metadata": {},
   "source": [
    "El comportamiento grafico varia al hacer muy grande o pequeño a *n* ó *p*, es decir que la medida de estos influye en que tan cercanas o lejanas son entre sí las gráficas, lo mismo ocurre al variar $\\sigma$ y $\\mu$. "
   ]
  },
  {
   "cell_type": "markdown",
   "metadata": {},
   "source": [
    "### <font color=black>Ejercicio 2</font>\n",
    "Obtener una muestra de variables financieras en el contexto de alta dimensionalidad y mediante el proceso propuesto en *Random matrix theory and financial correlation* mejorar la frontera óptima dentro y fuera de la muestra.\n",
    "### <font color=pink>Solución</font>"
   ]
  },
  {
   "cell_type": "code",
   "execution_count": 43,
   "metadata": {},
   "outputs": [
    {
     "data": {
      "image/png": "[encoded data removed]",
      "text/plain": [
       "plot without title"
      ]
     },
     "metadata": {},
     "output_type": "display_data"
    }
   ],
   "source": [
    "db <- read.csv(\"base_tarea5_completa.csv\")          #Cargan datos\n",
    "db3 <- db[301:600,]\n",
    "rownames(db3) <- db3[,1] \n",
    "db3 <- db3[,-1]\n",
    "\n",
    "n1 = nrow(db3)/2                                     #Se dividen los datos en 2 grupos\n",
    "p = ncol(db3)\n",
    "X1 = as.matrix(db3[1:n1,])\n",
    "X2 = as.matrix( db3[(n1+1):nrow(db3),])\n",
    "\n",
    "S1 = t(X1) %*% X1/n1                                #matrices de covarianza\n",
    "S2 = t(X2) %*% X2/n1\n",
    "\n",
    "\n",
    "mu1 = as.vector( colMeans(X1))                      #vector de medias\n",
    "G1 =seq(from=0, to=100, length.out=10000 )\n",
    "\n",
    "eig1 = eigen(S1)                                    #Factorizar S1\n",
    "l1 <- eig1$values\n",
    "O1 <- eig1$vectors\n",
    "\n",
    "k=6                                                #los primeros eigenvalores si los da ordenados, \n",
    "                                                   #tomaremos los primeros 4, los demás los haremos constantes \n",
    "\n",
    "saux = 1 - sum(l1[1:k])\n",
    "saux = saux/(p-k)\n",
    "l1[(k+1):length(l1)]=saux \n",
    "\n",
    "lambda1 = diag(l1)                                 #Matriz diagonal para hacerla limpia\n",
    "\n",
    "C1 = O1 %*% lambda1 %*% t(O1)                      #Matriz Limpia de S1 \n",
    "\n",
    "# Pasos iguales para S2\n",
    "eig2 = eigen(S2)\n",
    "l2 <- eig2$values\n",
    "O2 <- eig2$vectors\n",
    "saux2 = 1 - sum(l2[1:k])\n",
    "saux2 = saux2/(p-k)\n",
    "l2[(k+1):length(l2)]=saux2 \n",
    "lambda2 = diag(l2)\n",
    "C2 = O2 %*% lambda2 %*% t(O2)                       #Matriz limpia para S2\n",
    "\n",
    "# RETORNOS\n",
    "# R in dirty\n",
    "aux1 = as.numeric(t(mu1)%*% solve(S1)%*% mu1)\n",
    "Rin_dirty <- (G1^2)/ aux1\n",
    "\n",
    "# R in clean\n",
    "aux2 = as.numeric(t(mu1)%*% solve(C1)%*% mu1)\n",
    "Rin_clean <- (G1^2)/ aux2\n",
    "\n",
    "# R out dirty\n",
    "aux3 = as.numeric( (t(mu1) %*% solve(S1) %*% mu1)^2 )\n",
    "aux4 = as.numeric ( t(mu1)%*% solve(S1) %*% S2 %*%solve(S1) %*% mu1 )\n",
    "Rout_dirty = (G1**2) * aux4 /aux3\n",
    "\n",
    "# R out clean\n",
    "aux3 = as.numeric( (t(mu1) %*% solve(C1) %*% mu1)^2 )\n",
    "aux4 = as.numeric ( t(mu1)%*% solve(C1) %*% C2 %*%solve(C1) %*% mu1 )\n",
    "Rout_clean = (G1**2) * aux4 /aux3\n",
    "\n",
    "\n",
    "plot(Rout_dirty,G1, type=\"l\", col=\"green\", lwd=2, xlab=\"G\", ylab=\"concentration\")\n",
    "lines(Rout_clean, G1, col=\"red\", lwd=2)\n",
    "lines(Rin_dirty , G1, col=\"pink\", lwd=2)\n",
    "lines(Rin_clean , G1, col=\"blue\", lwd=2)"
   ]
  },
  {
   "cell_type": "markdown",
   "metadata": {},
   "source": [
    "Como se observó en el ejercicio anterior *n* y *p* influeyen en el comportamiento gráfico, del mismo modo mientras menos variabilidad exista de la información mejores serán los resultados.\n",
    "Los resultados son muy sensibles a cambios en el conjunto de datos."
   ]
  },
  {
   "cell_type": "markdown",
   "metadata": {},
   "source": [
    "### <font color=black>Ejercicio 3</font>\n",
    "Solución numérica de las ecuaciones de Painlevé para encontrar la distribución de *Tracy-Widom*\n",
    "### <font color=pink>Solución</font>"
   ]
  },
  {
   "cell_type": "markdown",
   "metadata": {},
   "source": [
    "A continuación se presenta el algoritmo para encontrar la distribución del valor propio más grande con $\\beta=1$ y $\\beta=2$"
   ]
  },
  {
   "cell_type": "code",
   "execution_count": 44,
   "metadata": {},
   "outputs": [
    {
     "data": {
      "image/png": "[encoded data removed]",
      "text/plain": [
       "Plot with title \"Tracy-Widom Distribution\""
      ]
     },
     "metadata": {},
     "output_type": "display_data"
    }
   ],
   "source": [
    "# Ejercicio 3\n",
    "library(deSolve)\n",
    "#library(gsl)\n",
    "library(numDeriv)\n",
    "#library(pracma)\n",
    "library(deTestSet)\n",
    "\n",
    "## F2\n",
    "deq <- function(t, y, parms) {            # Ecuacion diferencial a resolver\n",
    "  list(c(y[2],\n",
    "         t * y[1] + 2 * y[1] ^ 3,\n",
    "         y[4],\n",
    "         y[1] ^ 2))\n",
    "}\n",
    "\n",
    "t0 <- 5; tn <- -8\n",
    "tspan <- seq(t0, tn, length.out = 10000)    #Intervalo\n",
    "\n",
    "y0 <- c(airy_Ai(t0),                        #y0 inicial\n",
    "        airy_Ai_deriv(t0),\n",
    "        0,\n",
    "        airy_Ai(t0) ^ 2)\n",
    "\n",
    "F.ode <- ode(y=y0, times=tspan, func=deq, parms=NULL, method=\"rk4\") # Solución\n",
    "\n",
    "F2 <- exp(-F.ode[, \"3\"])                    # Distribución\n",
    "f2 <- gradient(F2, tspan)                   # Densidad\n",
    "\n",
    "\n",
    "#F1\n",
    "\n",
    "deqF1 <- function(t, y, parms) {          #Ecuacion diferencial a resolver\n",
    "  list(c(y[2],\n",
    "         t * y[1] + 2 * y[1] ^ 3,\n",
    "         y[4],\n",
    "         y[1]))\n",
    "}\n",
    "\n",
    "t0 <- 5; tn <- -8\n",
    "\n",
    "tspan <- seq(t0, tn, length.out = 10000)    # Intervalo\n",
    "\n",
    "y0 <- c(airy_Ai(t0),                        #Valor inicial\n",
    "        airy_Ai_deriv(t0),\n",
    "        0,\n",
    "        airy_Ai(t0) ^ 2)\n",
    "\n",
    "F.ode <- ode(y=y0, times=tspan, func=deqF1, parms=NULL, method=\"rk4\") #Solucion\n",
    "\n",
    "F1 <- sqrt(F2*exp(-F.ode[, \"3\"]))         # Distribución\n",
    "\n",
    "f1 <- gradient(F1, tspan)                 # Densidad\n",
    "\n",
    "\n",
    "\n",
    "#Graficos\n",
    "plot(tspan, f1, ylim = c(0, 0.5), col=\"darkolivegreen\", type = 'l', xlab = \"t\", ylab = \"density\", main = \"Tracy-Widom Distribution\", lwd=2)\n",
    "lines(tspan, f2, col=\"plum3\", lwd=2)\n",
    "legend(\"topleft\", legend = c(as.expression(bquote(beta~\"=2\")),as.expression(bquote(beta~\"=1\"))), col=c(\"plum3\",\"darkolivegreen\"), lty=c(1,1), cex = 0.8, bty = 'n')\n",
    "\n"
   ]
  },
  {
   "cell_type": "markdown",
   "metadata": {},
   "source": [
    "Como se comentó en clase su distribución es semejante a la Gaussiana."
   ]
  },
  {
   "cell_type": "markdown",
   "metadata": {},
   "source": [
    "### <font color=black>Ejercicio 4</font>\n",
    "Una muestra de $n=10$ observaciones viene de una $N_{10}(0, \\Sigma)$y el eigenvalor propio más grande es $\\lambda=4.3$\n",
    "### <font color=pink>Solución</font>\n",
    "\n",
    "* ¿Este valor es consisitente con la hipotesis $H_0=W_{10}(10,I) aun y cuando el valor 4.3 cae fuera del soporte [0,4] de la distribución de Marcenko-Pastur?\n",
    "\n",
    "* Utilizando la aproximación de segundo orden calcla la probabilidad de encontrar un valor más extremo a 4.3\n",
    "\n",
    "* Rechace o acepte $H_0$ bajo nivel de significancia 1%, 5% y 10%\n",
    "\n",
    "* ¿Cuáles son las conclusiones?"
   ]
  },
  {
   "cell_type": "code",
   "execution_count": 45,
   "metadata": {
    "scrolled": true
   },
   "outputs": [
    {
     "name": "stderr",
     "output_type": "stream",
     "text": [
      "Installing package into 'C:/Users/acer/Documents/R/win-library/3.6'\n",
      "(as 'lib' is unspecified)\n",
      "Warning message:\n",
      "\"package 'RMTstat' is in use and will not be installed\""
     ]
    }
   ],
   "source": [
    "install.packages(\"RMTstat\")\n",
    "library(RMTstat)"
   ]
  },
  {
   "cell_type": "markdown",
   "metadata": {},
   "source": [
    "Con la expresión vista en clase se rescala el valor de $\\lambda=4.3$ con lo que se obtuvo como valor:"
   ]
  },
  {
   "cell_type": "code",
   "execution_count": 46,
   "metadata": {},
   "outputs": [
    {
     "data": {
      "text/html": [
       "0.93689044196079"
      ],
      "text/latex": [
       "0.93689044196079"
      ],
      "text/markdown": [
       "0.93689044196079"
      ],
      "text/plain": [
       "[1] 0.9368904"
      ]
     },
     "metadata": {},
     "output_type": "display_data"
    }
   ],
   "source": [
    "p <- 10\n",
    "n <- 10\n",
    "\n",
    "a <- sqrt(n-1/2)\n",
    "b <- sqrt(p-1/2)\n",
    "mu  <- (a+b)^2                               # media\n",
    "sig <- (a+b)*(1/a+1/b)^(1/3)                 #sd\n",
    "\n",
    "Lambda <- 4.3\n",
    "\n",
    "Lam.est <- (n*Lambda - mu)/sig               #centrando lambda=4.3\n",
    "Lam.est"
   ]
  },
  {
   "cell_type": "markdown",
   "metadata": {},
   "source": [
    "Si es consistente con la $H_0$ a pesar de caer \"aparentemente\" fuera del soporte de *Marcenko-Pastur*"
   ]
  },
  {
   "cell_type": "markdown",
   "metadata": {},
   "source": [
    "La probabilidad de encontrar un valor más extremo que 4.3 es:\n",
    "\n",
    "$P(\\lambda >4.3)=P(\\frac{\\lambda -\\mu^0_{np}}{\\sigma^o_{np}}->\\frac{4.3-\\mu^0_{np}}{\\sigma^o_{np}})=P(\\lambda_{est}>0.93689)=1- P(\\lambda_{est}<0.93689)$.\n",
    "\n",
    "Calculado se obtiene que la probailidad es:"
   ]
  },
  {
   "cell_type": "code",
   "execution_count": 47,
   "metadata": {},
   "outputs": [
    {
     "data": {
      "text/html": [
       "0.0530234187802073"
      ],
      "text/latex": [
       "0.0530234187802073"
      ],
      "text/markdown": [
       "0.0530234187802073"
      ],
      "text/plain": [
       "[1] 0.05302342"
      ]
     },
     "metadata": {},
     "output_type": "display_data"
    }
   ],
   "source": [
    "p.lambda <- 1- ptw(Lam.est)\n",
    "p.lambda"
   ]
  },
  {
   "cell_type": "markdown",
   "metadata": {},
   "source": [
    "El valor obtenido anteriormente se compara con $\\alpha =0.01, 0.05, 0.1$.\n",
    "\n",
    "Se puede observar que únicamente $p.lambda=0.053<0.1$.\n",
    "\n",
    "Por lo que se rechaza $H_0$ con $\\alpha=0.10$ de significancia."
   ]
  },
  {
   "cell_type": "markdown",
   "metadata": {},
   "source": [
    "No solo conocer la distribución del valor propio más grande en importante sino probar si es estadísticamente significante ayuda a la toma de desiciones."
   ]
  }
 ],
 "metadata": {
  "kernelspec": {
   "display_name": "R",
   "language": "R",
   "name": "ir"
  },
  "language_info": {
   "codemirror_mode": "r",
   "file_extension": ".r",
   "mimetype": "text/x-r-source",
   "name": "R",
   "pygments_lexer": "r",
   "version": "3.6.1"
  }
 },
 "nbformat": 4,
 "nbformat_minor": 2
}
